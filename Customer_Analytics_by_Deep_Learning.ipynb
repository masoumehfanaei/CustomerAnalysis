{
  "nbformat": 4,
  "nbformat_minor": 0,
  "metadata": {
    "colab": {
      "provenance": []
    },
    "kernelspec": {
      "name": "python3",
      "display_name": "Python 3"
    },
    "language_info": {
      "name": "python"
    }
  },
  "cells": [
    {
      "cell_type": "markdown",
      "source": [
        "#Audiobooks business case"
      ],
      "metadata": {
        "id": "mtzJurPXl_AZ"
      }
    },
    {
      "cell_type": "markdown",
      "source": [
        "Create a machine learning algorithm that can predict if a customer will buy again"
      ],
      "metadata": {
        "id": "5iWHcCT5lNUr"
      }
    },
    {
      "cell_type": "markdown",
      "source": [
        "Preprocess the data. Balance the dataset. Create 3 datasets: training, validation, and test. Save the newly created sets in a tensor friendly format (e.g. *.npz)\n",
        "Since we are dealing with real life data, we will need to preprocess it a bit. This is the relevant code, which is not that hard, but is crucial to creating a good model.\n",
        "\n",
        "If you want to know how to do that, go through the code with comments. In any case, this should do the trick for most datasets organized in the way: many inputs, and then 1 cell containing the targets (supersized learning datasets). Keep in mind that a specific problem may require additional preprocessing.\n",
        "\n",
        "Note that we have removed the header row, which contains the names of the categories. We simply want the data."
      ],
      "metadata": {
        "id": "Ajl7kkNpmF7L"
      }
    },
    {
      "cell_type": "code",
      "source": [
        "import numpy as np\n",
        "from sklearn.preprocessing import StandardScaler\n",
        "import pickle\n",
        "import tensorflow as tf\n",
        "\n",
        "raw_csv_data = np.loadtxt('Audiobooks_data.csv', delimiter=',')\n",
        "\n",
        "unscaled_inputs_all = raw_csv_data[:,1:-1]\n",
        "targets_all = raw_csv_data[:,-1]"
      ],
      "metadata": {
        "id": "1SJbt3TWlN7K"
      },
      "execution_count": 2,
      "outputs": []
    },
    {
      "cell_type": "markdown",
      "source": [
        "##Balance the dataset"
      ],
      "metadata": {
        "id": "3iOZvoCompVR"
      }
    },
    {
      "cell_type": "code",
      "source": [
        "num_one_targets = int(np.sum(targets_all))\n",
        "\n",
        "zero_targets_counter = 0\n",
        "\n",
        "indices_to_remove = []\n",
        "\n",
        "for i in range(targets_all.shape[0]):\n",
        "    if targets_all[i] == 0:\n",
        "        zero_targets_counter += 1\n",
        "        if zero_targets_counter > num_one_targets:\n",
        "            indices_to_remove.append(i)\n",
        "\n",
        "unscaled_inputs_equal_priors = np.delete(unscaled_inputs_all, indices_to_remove, axis=0)\n",
        "targets_equal_priors = np.delete(targets_all, indices_to_remove, axis=0)"
      ],
      "metadata": {
        "id": "UZiCYeR4mKhu"
      },
      "execution_count": 3,
      "outputs": []
    },
    {
      "cell_type": "markdown",
      "source": [
        "##Standardize the inputs"
      ],
      "metadata": {
        "id": "YJDf5v-jmw1v"
      }
    },
    {
      "cell_type": "code",
      "source": [
        "scaler_deep_learning = StandardScaler()\n",
        "scaled_inputs = scaler_deep_learning.fit_transform(unscaled_inputs_equal_priors)"
      ],
      "metadata": {
        "id": "o10BsjPcmvMU"
      },
      "execution_count": 4,
      "outputs": []
    },
    {
      "cell_type": "markdown",
      "source": [
        "##Shuffle the data"
      ],
      "metadata": {
        "id": "_0ywYZqwnQU4"
      }
    },
    {
      "cell_type": "markdown",
      "source": [
        "Shuffling the data means that we randomize the order in which the data is presented to the model during training. This helps the model to learn the general patterns in the data, rather than memorizing the specific order."
      ],
      "metadata": {
        "id": "7JJB6KjQn5CX"
      }
    },
    {
      "cell_type": "code",
      "source": [
        "shuffled_indices = np.arange(scaled_inputs.shape[0])\n",
        "np.random.shuffle(shuffled_indices)\n",
        "\n",
        "shuffled_inputs = scaled_inputs[shuffled_indices]\n",
        "shuffled_targets = targets_equal_priors[shuffled_indices]"
      ],
      "metadata": {
        "id": "2yFu1l92nMud"
      },
      "execution_count": 5,
      "outputs": []
    },
    {
      "cell_type": "markdown",
      "source": [
        "##Split the dataset into train, validation, and test"
      ],
      "metadata": {
        "id": "7z_PCDSSoBjH"
      }
    },
    {
      "cell_type": "code",
      "source": [
        "samples_count = shuffled_inputs.shape[0]\n",
        "\n",
        "train_samples_count = int(0.8 * samples_count)\n",
        "validation_samples_count = int(0.1 * samples_count)\n",
        "\n",
        "test_samples_count = samples_count - train_samples_count - validation_samples_count\n",
        "\n",
        "train_inputs = shuffled_inputs[:train_samples_count]\n",
        "train_targets = shuffled_targets[:train_samples_count]\n",
        "\n",
        "validation_inputs = shuffled_inputs[train_samples_count:train_samples_count+validation_samples_count]\n",
        "validation_targets = shuffled_targets[train_samples_count:train_samples_count+validation_samples_count]\n",
        "\n",
        "test_inputs = shuffled_inputs[train_samples_count+validation_samples_count:]\n",
        "test_targets = shuffled_targets[train_samples_count+validation_samples_count:]\n",
        "\n",
        "print(np.sum(train_targets), train_samples_count, np.sum(train_targets) / train_samples_count)\n",
        "print(np.sum(validation_targets), validation_samples_count, np.sum(validation_targets) / validation_samples_count)\n",
        "print(np.sum(test_targets), test_samples_count, np.sum(test_targets) / test_samples_count)"
      ],
      "metadata": {
        "colab": {
          "base_uri": "https://localhost:8080/"
        },
        "id": "DLC4_aDMnMps",
        "outputId": "fdbb9aae-9fcb-4f51-9984-ef69ad0d673c"
      },
      "execution_count": 6,
      "outputs": [
        {
          "output_type": "stream",
          "name": "stdout",
          "text": [
            "1791.0 3579 0.5004191114836547\n",
            "222.0 447 0.4966442953020134\n",
            "224.0 448 0.5\n"
          ]
        }
      ]
    },
    {
      "cell_type": "markdown",
      "source": [
        "##Save the three datasets in *.npz"
      ],
      "metadata": {
        "id": "a0oTwymCoJmY"
      }
    },
    {
      "cell_type": "code",
      "source": [
        "np.savez('Audiobooks_data_train', inputs=train_inputs, targets=train_targets)\n",
        "np.savez('Audiobooks_data_validation', inputs=validation_inputs, targets=validation_targets)\n",
        "np.savez('Audiobooks_data_test', inputs=test_inputs, targets=test_targets)"
      ],
      "metadata": {
        "id": "Ljce2OOhnMlI"
      },
      "execution_count": 7,
      "outputs": []
    },
    {
      "cell_type": "markdown",
      "source": [
        "##Save the scaler"
      ],
      "metadata": {
        "id": "0XGvsU64oOIn"
      }
    },
    {
      "cell_type": "code",
      "source": [
        "pickle.dump(scaler_deep_learning, open('scaler_deep_learning.pickle', 'wb'))"
      ],
      "metadata": {
        "id": "meamDds_nMgo"
      },
      "execution_count": 8,
      "outputs": []
    },
    {
      "cell_type": "markdown",
      "source": [
        "##Data"
      ],
      "metadata": {
        "id": "gff1E8EcpO-Z"
      }
    },
    {
      "cell_type": "code",
      "source": [
        "npz = np.load('Audiobooks_data_train.npz')"
      ],
      "metadata": {
        "id": "uJj79wFonMcF"
      },
      "execution_count": 9,
      "outputs": []
    },
    {
      "cell_type": "code",
      "source": [
        "\n",
        "\n",
        "train_inputs = npz['inputs'].astype(np.float)\n",
        "train_targets = npz['targets'].astype(np.int)\n",
        "\n",
        "npz = np.load('Audiobooks_data_validation.npz')\n",
        "validation_inputs, validation_targets = npz['inputs'].astype(np.float), npz['targets'].astype(np.int)\n",
        "\n",
        "npz = np.load('Audiobooks_data_test.npz')\n",
        "test_inputs, test_targets = npz['inputs'].astype(np.float), npz['targets'].astype(np.int)"
      ],
      "metadata": {
        "colab": {
          "base_uri": "https://localhost:8080/"
        },
        "id": "Gie8p_zunMXy",
        "outputId": "a3c3352e-2354-43b4-a15c-517fc3598013"
      },
      "execution_count": 10,
      "outputs": [
        {
          "output_type": "stream",
          "name": "stderr",
          "text": [
            "<ipython-input-10-219636447664>:1: DeprecationWarning: `np.float` is a deprecated alias for the builtin `float`. To silence this warning, use `float` by itself. Doing this will not modify any behavior and is safe. If you specifically wanted the numpy scalar type, use `np.float64` here.\n",
            "Deprecated in NumPy 1.20; for more details and guidance: https://numpy.org/devdocs/release/1.20.0-notes.html#deprecations\n",
            "  train_inputs = npz['inputs'].astype(np.float)\n",
            "<ipython-input-10-219636447664>:2: DeprecationWarning: `np.int` is a deprecated alias for the builtin `int`. To silence this warning, use `int` by itself. Doing this will not modify any behavior and is safe. When replacing `np.int`, you may wish to use e.g. `np.int64` or `np.int32` to specify the precision. If you wish to review your current use, check the release note link for additional information.\n",
            "Deprecated in NumPy 1.20; for more details and guidance: https://numpy.org/devdocs/release/1.20.0-notes.html#deprecations\n",
            "  train_targets = npz['targets'].astype(np.int)\n",
            "<ipython-input-10-219636447664>:5: DeprecationWarning: `np.float` is a deprecated alias for the builtin `float`. To silence this warning, use `float` by itself. Doing this will not modify any behavior and is safe. If you specifically wanted the numpy scalar type, use `np.float64` here.\n",
            "Deprecated in NumPy 1.20; for more details and guidance: https://numpy.org/devdocs/release/1.20.0-notes.html#deprecations\n",
            "  validation_inputs, validation_targets = npz['inputs'].astype(np.float), npz['targets'].astype(np.int)\n",
            "<ipython-input-10-219636447664>:5: DeprecationWarning: `np.int` is a deprecated alias for the builtin `int`. To silence this warning, use `int` by itself. Doing this will not modify any behavior and is safe. When replacing `np.int`, you may wish to use e.g. `np.int64` or `np.int32` to specify the precision. If you wish to review your current use, check the release note link for additional information.\n",
            "Deprecated in NumPy 1.20; for more details and guidance: https://numpy.org/devdocs/release/1.20.0-notes.html#deprecations\n",
            "  validation_inputs, validation_targets = npz['inputs'].astype(np.float), npz['targets'].astype(np.int)\n",
            "<ipython-input-10-219636447664>:8: DeprecationWarning: `np.float` is a deprecated alias for the builtin `float`. To silence this warning, use `float` by itself. Doing this will not modify any behavior and is safe. If you specifically wanted the numpy scalar type, use `np.float64` here.\n",
            "Deprecated in NumPy 1.20; for more details and guidance: https://numpy.org/devdocs/release/1.20.0-notes.html#deprecations\n",
            "  test_inputs, test_targets = npz['inputs'].astype(np.float), npz['targets'].astype(np.int)\n",
            "<ipython-input-10-219636447664>:8: DeprecationWarning: `np.int` is a deprecated alias for the builtin `int`. To silence this warning, use `int` by itself. Doing this will not modify any behavior and is safe. When replacing `np.int`, you may wish to use e.g. `np.int64` or `np.int32` to specify the precision. If you wish to review your current use, check the release note link for additional information.\n",
            "Deprecated in NumPy 1.20; for more details and guidance: https://numpy.org/devdocs/release/1.20.0-notes.html#deprecations\n",
            "  test_inputs, test_targets = npz['inputs'].astype(np.float), npz['targets'].astype(np.int)\n"
          ]
        }
      ]
    },
    {
      "cell_type": "markdown",
      "source": [
        "##model"
      ],
      "metadata": {
        "id": "79SM1UW1p5sz"
      }
    },
    {
      "cell_type": "code",
      "source": [
        "#input_size = 10\n",
        "output_size = 2\n",
        "hidden_layer_size = 50\n",
        "\n",
        "model = tf.keras.Sequential([\n",
        "                            tf.keras.layers.Dense(hidden_layer_size, activation='relu'),\n",
        "                            tf.keras.layers.Dense(hidden_layer_size, activation='relu'),\n",
        "                            tf.keras.layers.Dense(output_size, activation='softmax')\n",
        "                            ])\n",
        "\n",
        "model.compile(optimizer='adam', loss='sparse_categorical_crossentropy', metrics = ['accuracy'])\n",
        "\n",
        "batch_size = 100\n",
        "\n",
        "max_epochs=100\n",
        "\n",
        "early_stopping = tf.keras.callbacks.EarlyStopping(patience=2)\n",
        "\n",
        "model.fit(train_inputs,\n",
        "          train_targets,\n",
        "          batch_size=batch_size,\n",
        "          epochs=max_epochs,\n",
        "          callbacks=[early_stopping],\n",
        "          validation_data=(validation_inputs, validation_targets),\n",
        "          verbose=2\n",
        "          )\n"
      ],
      "metadata": {
        "colab": {
          "base_uri": "https://localhost:8080/"
        },
        "id": "UWsD5nH-nMS4",
        "outputId": "62133e59-3229-468f-ef4d-9a38bb1c9c5e"
      },
      "execution_count": 11,
      "outputs": [
        {
          "output_type": "stream",
          "name": "stdout",
          "text": [
            "Epoch 1/100\n",
            "36/36 - 1s - loss: 0.5056 - accuracy: 0.8215 - val_loss: 0.3824 - val_accuracy: 0.8702 - 1s/epoch - 38ms/step\n",
            "Epoch 2/100\n",
            "36/36 - 0s - loss: 0.3592 - accuracy: 0.8754 - val_loss: 0.3149 - val_accuracy: 0.8881 - 95ms/epoch - 3ms/step\n",
            "Epoch 3/100\n",
            "36/36 - 0s - loss: 0.3162 - accuracy: 0.8877 - val_loss: 0.2957 - val_accuracy: 0.8926 - 96ms/epoch - 3ms/step\n",
            "Epoch 4/100\n",
            "36/36 - 0s - loss: 0.2930 - accuracy: 0.8908 - val_loss: 0.2832 - val_accuracy: 0.8881 - 125ms/epoch - 3ms/step\n",
            "Epoch 5/100\n",
            "36/36 - 0s - loss: 0.2799 - accuracy: 0.8952 - val_loss: 0.2752 - val_accuracy: 0.8993 - 162ms/epoch - 5ms/step\n",
            "Epoch 6/100\n",
            "36/36 - 0s - loss: 0.2696 - accuracy: 0.8994 - val_loss: 0.2719 - val_accuracy: 0.8993 - 154ms/epoch - 4ms/step\n",
            "Epoch 7/100\n",
            "36/36 - 0s - loss: 0.2629 - accuracy: 0.9016 - val_loss: 0.2652 - val_accuracy: 0.9016 - 141ms/epoch - 4ms/step\n",
            "Epoch 8/100\n",
            "36/36 - 0s - loss: 0.2560 - accuracy: 0.9050 - val_loss: 0.2640 - val_accuracy: 0.9038 - 136ms/epoch - 4ms/step\n",
            "Epoch 9/100\n",
            "36/36 - 0s - loss: 0.2529 - accuracy: 0.9028 - val_loss: 0.2614 - val_accuracy: 0.9083 - 151ms/epoch - 4ms/step\n",
            "Epoch 10/100\n",
            "36/36 - 0s - loss: 0.2487 - accuracy: 0.9072 - val_loss: 0.2610 - val_accuracy: 0.9038 - 149ms/epoch - 4ms/step\n",
            "Epoch 11/100\n",
            "36/36 - 0s - loss: 0.2469 - accuracy: 0.9070 - val_loss: 0.2570 - val_accuracy: 0.9083 - 156ms/epoch - 4ms/step\n",
            "Epoch 12/100\n",
            "36/36 - 0s - loss: 0.2436 - accuracy: 0.9098 - val_loss: 0.2605 - val_accuracy: 0.8993 - 149ms/epoch - 4ms/step\n",
            "Epoch 13/100\n",
            "36/36 - 0s - loss: 0.2424 - accuracy: 0.9089 - val_loss: 0.2560 - val_accuracy: 0.9083 - 156ms/epoch - 4ms/step\n",
            "Epoch 14/100\n",
            "36/36 - 0s - loss: 0.2397 - accuracy: 0.9117 - val_loss: 0.2610 - val_accuracy: 0.9060 - 123ms/epoch - 3ms/step\n",
            "Epoch 15/100\n",
            "36/36 - 0s - loss: 0.2366 - accuracy: 0.9106 - val_loss: 0.2545 - val_accuracy: 0.9060 - 156ms/epoch - 4ms/step\n",
            "Epoch 16/100\n",
            "36/36 - 0s - loss: 0.2341 - accuracy: 0.9125 - val_loss: 0.2546 - val_accuracy: 0.9083 - 148ms/epoch - 4ms/step\n",
            "Epoch 17/100\n",
            "36/36 - 0s - loss: 0.2334 - accuracy: 0.9134 - val_loss: 0.2513 - val_accuracy: 0.9105 - 155ms/epoch - 4ms/step\n",
            "Epoch 18/100\n",
            "36/36 - 0s - loss: 0.2332 - accuracy: 0.9120 - val_loss: 0.2510 - val_accuracy: 0.9128 - 154ms/epoch - 4ms/step\n",
            "Epoch 19/100\n",
            "36/36 - 0s - loss: 0.2310 - accuracy: 0.9142 - val_loss: 0.2520 - val_accuracy: 0.9105 - 161ms/epoch - 4ms/step\n",
            "Epoch 20/100\n",
            "36/36 - 0s - loss: 0.2307 - accuracy: 0.9151 - val_loss: 0.2524 - val_accuracy: 0.9128 - 143ms/epoch - 4ms/step\n"
          ]
        },
        {
          "output_type": "execute_result",
          "data": {
            "text/plain": [
              "<keras.callbacks.History at 0x7b3a559a7c70>"
            ]
          },
          "metadata": {},
          "execution_count": 11
        }
      ]
    },
    {
      "cell_type": "markdown",
      "source": [
        "the optimal hidden layer size is a part of teh fine-tunning of teh model\n",
        "\n",
        "batch size: indicate how many observations are fed to the algorithm at once\n",
        "\n"
      ],
      "metadata": {
        "id": "Zgn1Cl3Nqbhp"
      }
    },
    {
      "cell_type": "markdown",
      "source": [
        "in 93% of the cases our model has predicted whether a customer will convert again"
      ],
      "metadata": {
        "id": "Q6dCR5tZrbn_"
      }
    },
    {
      "cell_type": "markdown",
      "source": [
        "##test the model"
      ],
      "metadata": {
        "id": "iYasoi0isMuF"
      }
    },
    {
      "cell_type": "code",
      "source": [
        "test_loss, test_accuracy = model.evaluate(test_inputs, test_targets)"
      ],
      "metadata": {
        "colab": {
          "base_uri": "https://localhost:8080/"
        },
        "id": "eGfjTQomnMN9",
        "outputId": "1263f113-1afc-4006-eebd-8f103b6f34b0"
      },
      "execution_count": 12,
      "outputs": [
        {
          "output_type": "stream",
          "name": "stdout",
          "text": [
            "14/14 [==============================] - 0s 3ms/step - loss: 0.2619 - accuracy: 0.8906\n"
          ]
        }
      ]
    },
    {
      "cell_type": "code",
      "source": [
        "print('\\nTest loss: {0:.2f}. Test accuracy: {1:.2f}%'.format(test_loss, test_accuracy*100.))"
      ],
      "metadata": {
        "colab": {
          "base_uri": "https://localhost:8080/"
        },
        "id": "AZreLM4NnMJf",
        "outputId": "94c0058d-4d76-4d3a-966b-618b1fcc86c5"
      },
      "execution_count": 13,
      "outputs": [
        {
          "output_type": "stream",
          "name": "stdout",
          "text": [
            "\n",
            "Test loss: 0.26. Test accuracy: 89.06%\n"
          ]
        }
      ]
    },
    {
      "cell_type": "markdown",
      "source": [
        "the test accuracy is always lower than teh validation accuracy"
      ],
      "metadata": {
        "id": "nP7jmEhNsYGt"
      }
    },
    {
      "cell_type": "markdown",
      "source": [
        "we can make solid predictions about teh purchasing behaviour of 9 out of 10 people"
      ],
      "metadata": {
        "id": "hkMTiHP1sj9k"
      }
    },
    {
      "cell_type": "markdown",
      "source": [
        "##obtain the probability for a customer to convert"
      ],
      "metadata": {
        "id": "A1Bc-UB9Ufv7"
      }
    },
    {
      "cell_type": "code",
      "source": [
        "model.predict(test_inputs).round(2)"
      ],
      "metadata": {
        "colab": {
          "base_uri": "https://localhost:8080/"
        },
        "id": "R4TYNFqTnME_",
        "outputId": "9d1ea3a4-d2e9-4133-edf4-401d101bd297"
      },
      "execution_count": 14,
      "outputs": [
        {
          "output_type": "stream",
          "name": "stdout",
          "text": [
            "14/14 [==============================] - 0s 2ms/step\n"
          ]
        },
        {
          "output_type": "execute_result",
          "data": {
            "text/plain": [
              "array([[1.  , 0.  ],\n",
              "       [1.  , 0.  ],\n",
              "       [1.  , 0.  ],\n",
              "       [0.  , 1.  ],\n",
              "       [0.  , 1.  ],\n",
              "       [0.15, 0.85],\n",
              "       [0.2 , 0.8 ],\n",
              "       [0.93, 0.07],\n",
              "       [0.9 , 0.1 ],\n",
              "       [0.97, 0.03],\n",
              "       [0.99, 0.01],\n",
              "       [1.  , 0.  ],\n",
              "       [0.91, 0.09],\n",
              "       [0.04, 0.96],\n",
              "       [0.29, 0.71],\n",
              "       [0.04, 0.96],\n",
              "       [0.94, 0.06],\n",
              "       [0.23, 0.77],\n",
              "       [1.  , 0.  ],\n",
              "       [0.04, 0.96],\n",
              "       [0.92, 0.08],\n",
              "       [0.95, 0.05],\n",
              "       [1.  , 0.  ],\n",
              "       [1.  , 0.  ],\n",
              "       [0.98, 0.02],\n",
              "       [0.3 , 0.7 ],\n",
              "       [0.05, 0.95],\n",
              "       [0.  , 1.  ],\n",
              "       [0.23, 0.77],\n",
              "       [0.84, 0.16],\n",
              "       [0.89, 0.11],\n",
              "       [0.93, 0.07],\n",
              "       [0.92, 0.08],\n",
              "       [0.73, 0.27],\n",
              "       [0.22, 0.78],\n",
              "       [0.99, 0.01],\n",
              "       [0.93, 0.07],\n",
              "       [0.  , 1.  ],\n",
              "       [1.  , 0.  ],\n",
              "       [0.66, 0.34],\n",
              "       [0.  , 1.  ],\n",
              "       [0.96, 0.04],\n",
              "       [0.75, 0.25],\n",
              "       [0.  , 1.  ],\n",
              "       [0.3 , 0.7 ],\n",
              "       [0.3 , 0.7 ],\n",
              "       [0.99, 0.01],\n",
              "       [0.2 , 0.8 ],\n",
              "       [0.  , 1.  ],\n",
              "       [0.17, 0.83],\n",
              "       [0.  , 1.  ],\n",
              "       [0.  , 1.  ],\n",
              "       [0.41, 0.59],\n",
              "       [0.94, 0.06],\n",
              "       [1.  , 0.  ],\n",
              "       [0.  , 1.  ],\n",
              "       [0.24, 0.76],\n",
              "       [0.2 , 0.8 ],\n",
              "       [0.32, 0.68],\n",
              "       [0.94, 0.06],\n",
              "       [0.21, 0.79],\n",
              "       [0.98, 0.02],\n",
              "       [0.01, 0.99],\n",
              "       [0.  , 1.  ],\n",
              "       [0.95, 0.05],\n",
              "       [1.  , 0.  ],\n",
              "       [0.03, 0.97],\n",
              "       [1.  , 0.  ],\n",
              "       [1.  , 0.  ],\n",
              "       [1.  , 0.  ],\n",
              "       [0.03, 0.97],\n",
              "       [1.  , 0.  ],\n",
              "       [0.  , 1.  ],\n",
              "       [0.02, 0.98],\n",
              "       [0.97, 0.03],\n",
              "       [1.  , 0.  ],\n",
              "       [0.92, 0.08],\n",
              "       [0.93, 0.07],\n",
              "       [0.86, 0.14],\n",
              "       [0.19, 0.81],\n",
              "       [0.11, 0.89],\n",
              "       [0.92, 0.08],\n",
              "       [0.95, 0.05],\n",
              "       [0.91, 0.09],\n",
              "       [1.  , 0.  ],\n",
              "       [0.89, 0.11],\n",
              "       [1.  , 0.  ],\n",
              "       [0.2 , 0.8 ],\n",
              "       [0.47, 0.53],\n",
              "       [0.21, 0.79],\n",
              "       [1.  , 0.  ],\n",
              "       [0.78, 0.22],\n",
              "       [0.24, 0.76],\n",
              "       [0.1 , 0.9 ],\n",
              "       [0.  , 1.  ],\n",
              "       [0.14, 0.86],\n",
              "       [0.08, 0.92],\n",
              "       [0.  , 1.  ],\n",
              "       [0.  , 1.  ],\n",
              "       [0.1 , 0.9 ],\n",
              "       [0.  , 1.  ],\n",
              "       [0.24, 0.76],\n",
              "       [0.21, 0.79],\n",
              "       [0.46, 0.54],\n",
              "       [0.17, 0.83],\n",
              "       [1.  , 0.  ],\n",
              "       [0.9 , 0.1 ],\n",
              "       [0.31, 0.69],\n",
              "       [0.11, 0.89],\n",
              "       [0.12, 0.88],\n",
              "       [0.92, 0.08],\n",
              "       [0.  , 1.  ],\n",
              "       [0.88, 0.12],\n",
              "       [0.92, 0.08],\n",
              "       [0.92, 0.08],\n",
              "       [1.  , 0.  ],\n",
              "       [0.18, 0.82],\n",
              "       [0.  , 1.  ],\n",
              "       [0.24, 0.76],\n",
              "       [1.  , 0.  ],\n",
              "       [0.  , 1.  ],\n",
              "       [0.91, 0.09],\n",
              "       [0.04, 0.96],\n",
              "       [0.03, 0.97],\n",
              "       [0.  , 1.  ],\n",
              "       [0.96, 0.04],\n",
              "       [0.99, 0.01],\n",
              "       [0.2 , 0.8 ],\n",
              "       [0.  , 1.  ],\n",
              "       [1.  , 0.  ],\n",
              "       [0.12, 0.88],\n",
              "       [1.  , 0.  ],\n",
              "       [0.92, 0.08],\n",
              "       [0.  , 1.  ],\n",
              "       [0.  , 1.  ],\n",
              "       [1.  , 0.  ],\n",
              "       [0.8 , 0.2 ],\n",
              "       [1.  , 0.  ],\n",
              "       [0.33, 0.67],\n",
              "       [0.89, 0.11],\n",
              "       [0.8 , 0.2 ],\n",
              "       [0.87, 0.13],\n",
              "       [1.  , 0.  ],\n",
              "       [0.  , 1.  ],\n",
              "       [0.91, 0.09],\n",
              "       [0.24, 0.76],\n",
              "       [0.78, 0.22],\n",
              "       [0.01, 0.99],\n",
              "       [0.93, 0.07],\n",
              "       [0.  , 1.  ],\n",
              "       [0.12, 0.88],\n",
              "       [0.  , 1.  ],\n",
              "       [1.  , 0.  ],\n",
              "       [0.93, 0.07],\n",
              "       [1.  , 0.  ],\n",
              "       [0.01, 0.99],\n",
              "       [0.09, 0.91],\n",
              "       [0.96, 0.04],\n",
              "       [0.12, 0.88],\n",
              "       [0.31, 0.69],\n",
              "       [0.72, 0.28],\n",
              "       [0.82, 0.18],\n",
              "       [1.  , 0.  ],\n",
              "       [0.89, 0.11],\n",
              "       [0.95, 0.05],\n",
              "       [0.98, 0.02],\n",
              "       [0.  , 1.  ],\n",
              "       [0.24, 0.76],\n",
              "       [0.97, 0.03],\n",
              "       [0.92, 0.08],\n",
              "       [0.22, 0.78],\n",
              "       [0.01, 0.99],\n",
              "       [1.  , 0.  ],\n",
              "       [0.15, 0.85],\n",
              "       [0.79, 0.21],\n",
              "       [0.  , 1.  ],\n",
              "       [0.04, 0.96],\n",
              "       [0.  , 1.  ],\n",
              "       [0.  , 1.  ],\n",
              "       [0.98, 0.02],\n",
              "       [0.13, 0.87],\n",
              "       [0.18, 0.82],\n",
              "       [0.  , 1.  ],\n",
              "       [1.  , 0.  ],\n",
              "       [1.  , 0.  ],\n",
              "       [0.12, 0.88],\n",
              "       [0.57, 0.43],\n",
              "       [0.25, 0.75],\n",
              "       [0.94, 0.06],\n",
              "       [0.14, 0.86],\n",
              "       [1.  , 0.  ],\n",
              "       [1.  , 0.  ],\n",
              "       [1.  , 0.  ],\n",
              "       [0.3 , 0.7 ],\n",
              "       [0.96, 0.04],\n",
              "       [0.99, 0.01],\n",
              "       [0.21, 0.79],\n",
              "       [1.  , 0.  ],\n",
              "       [0.03, 0.97],\n",
              "       [0.18, 0.82],\n",
              "       [0.33, 0.67],\n",
              "       [0.  , 1.  ],\n",
              "       [0.27, 0.73],\n",
              "       [0.  , 1.  ],\n",
              "       [1.  , 0.  ],\n",
              "       [0.  , 1.  ],\n",
              "       [0.31, 0.69],\n",
              "       [0.24, 0.76],\n",
              "       [0.97, 0.03],\n",
              "       [0.01, 0.99],\n",
              "       [0.46, 0.54],\n",
              "       [0.53, 0.47],\n",
              "       [1.  , 0.  ],\n",
              "       [0.09, 0.91],\n",
              "       [0.25, 0.75],\n",
              "       [0.94, 0.06],\n",
              "       [0.96, 0.04],\n",
              "       [0.9 , 0.1 ],\n",
              "       [0.25, 0.75],\n",
              "       [0.3 , 0.7 ],\n",
              "       [0.3 , 0.7 ],\n",
              "       [0.27, 0.73],\n",
              "       [0.87, 0.13],\n",
              "       [0.91, 0.09],\n",
              "       [0.19, 0.81],\n",
              "       [0.  , 1.  ],\n",
              "       [1.  , 0.  ],\n",
              "       [0.6 , 0.4 ],\n",
              "       [0.32, 0.68],\n",
              "       [0.  , 1.  ],\n",
              "       [1.  , 0.  ],\n",
              "       [0.2 , 0.8 ],\n",
              "       [0.  , 1.  ],\n",
              "       [0.22, 0.78],\n",
              "       [0.21, 0.79],\n",
              "       [1.  , 0.  ],\n",
              "       [0.88, 0.12],\n",
              "       [0.93, 0.07],\n",
              "       [0.99, 0.01],\n",
              "       [0.92, 0.08],\n",
              "       [0.92, 0.08],\n",
              "       [0.22, 0.78],\n",
              "       [0.93, 0.07],\n",
              "       [0.  , 1.  ],\n",
              "       [0.94, 0.06],\n",
              "       [0.04, 0.96],\n",
              "       [0.  , 1.  ],\n",
              "       [0.93, 0.07],\n",
              "       [0.08, 0.92],\n",
              "       [1.  , 0.  ],\n",
              "       [0.  , 1.  ],\n",
              "       [1.  , 0.  ],\n",
              "       [0.95, 0.05],\n",
              "       [0.85, 0.15],\n",
              "       [0.8 , 0.2 ],\n",
              "       [0.91, 0.09],\n",
              "       [0.  , 1.  ],\n",
              "       [1.  , 0.  ],\n",
              "       [0.31, 0.69],\n",
              "       [0.24, 0.76],\n",
              "       [0.11, 0.89],\n",
              "       [0.31, 0.69],\n",
              "       [0.93, 0.07],\n",
              "       [1.  , 0.  ],\n",
              "       [1.  , 0.  ],\n",
              "       [0.67, 0.33],\n",
              "       [0.86, 0.14],\n",
              "       [0.3 , 0.7 ],\n",
              "       [0.61, 0.39],\n",
              "       [0.  , 1.  ],\n",
              "       [0.3 , 0.7 ],\n",
              "       [0.  , 1.  ],\n",
              "       [0.11, 0.89],\n",
              "       [0.29, 0.71],\n",
              "       [0.92, 0.08],\n",
              "       [0.16, 0.84],\n",
              "       [0.  , 1.  ],\n",
              "       [0.  , 1.  ],\n",
              "       [0.  , 1.  ],\n",
              "       [0.27, 0.73],\n",
              "       [0.  , 1.  ],\n",
              "       [0.85, 0.15],\n",
              "       [1.  , 0.  ],\n",
              "       [1.  , 0.  ],\n",
              "       [0.93, 0.07],\n",
              "       [0.8 , 0.2 ],\n",
              "       [1.  , 0.  ],\n",
              "       [0.  , 1.  ],\n",
              "       [0.81, 0.19],\n",
              "       [1.  , 0.  ],\n",
              "       [0.14, 0.86],\n",
              "       [0.  , 1.  ],\n",
              "       [1.  , 0.  ],\n",
              "       [0.  , 1.  ],\n",
              "       [0.91, 0.09],\n",
              "       [0.  , 1.  ],\n",
              "       [0.92, 0.08],\n",
              "       [1.  , 0.  ],\n",
              "       [0.17, 0.83],\n",
              "       [0.24, 0.76],\n",
              "       [0.  , 1.  ],\n",
              "       [0.96, 0.04],\n",
              "       [0.97, 0.03],\n",
              "       [0.72, 0.28],\n",
              "       [0.7 , 0.3 ],\n",
              "       [0.92, 0.08],\n",
              "       [0.02, 0.98],\n",
              "       [0.95, 0.05],\n",
              "       [0.13, 0.87],\n",
              "       [0.59, 0.41],\n",
              "       [0.03, 0.97],\n",
              "       [0.5 , 0.5 ],\n",
              "       [0.99, 0.01],\n",
              "       [0.21, 0.79],\n",
              "       [0.09, 0.91],\n",
              "       [0.92, 0.08],\n",
              "       [0.97, 0.03],\n",
              "       [0.3 , 0.7 ],\n",
              "       [0.9 , 0.1 ],\n",
              "       [0.87, 0.13],\n",
              "       [0.83, 0.17],\n",
              "       [0.91, 0.09],\n",
              "       [0.63, 0.37],\n",
              "       [0.94, 0.06],\n",
              "       [0.3 , 0.7 ],\n",
              "       [1.  , 0.  ],\n",
              "       [0.94, 0.06],\n",
              "       [0.24, 0.76],\n",
              "       [0.04, 0.96],\n",
              "       [0.91, 0.09],\n",
              "       [0.  , 1.  ],\n",
              "       [0.99, 0.01],\n",
              "       [0.  , 1.  ],\n",
              "       [0.73, 0.27],\n",
              "       [0.24, 0.76],\n",
              "       [0.23, 0.77],\n",
              "       [0.22, 0.78],\n",
              "       [1.  , 0.  ],\n",
              "       [0.  , 1.  ],\n",
              "       [0.97, 0.03],\n",
              "       [0.92, 0.08],\n",
              "       [0.26, 0.74],\n",
              "       [0.26, 0.74],\n",
              "       [1.  , 0.  ],\n",
              "       [0.  , 1.  ],\n",
              "       [1.  , 0.  ],\n",
              "       [1.  , 0.  ],\n",
              "       [0.14, 0.86],\n",
              "       [0.25, 0.75],\n",
              "       [0.24, 0.76],\n",
              "       [0.99, 0.01],\n",
              "       [0.3 , 0.7 ],\n",
              "       [0.01, 0.99],\n",
              "       [0.81, 0.19],\n",
              "       [0.1 , 0.9 ],\n",
              "       [0.13, 0.87],\n",
              "       [0.97, 0.03],\n",
              "       [0.96, 0.04],\n",
              "       [0.  , 1.  ],\n",
              "       [1.  , 0.  ],\n",
              "       [0.  , 1.  ],\n",
              "       [0.12, 0.88],\n",
              "       [0.21, 0.79],\n",
              "       [0.18, 0.82],\n",
              "       [0.14, 0.86],\n",
              "       [1.  , 0.  ],\n",
              "       [0.17, 0.83],\n",
              "       [0.76, 0.24],\n",
              "       [0.74, 0.26],\n",
              "       [1.  , 0.  ],\n",
              "       [1.  , 0.  ],\n",
              "       [1.  , 0.  ],\n",
              "       [0.  , 1.  ],\n",
              "       [0.  , 1.  ],\n",
              "       [0.04, 0.96],\n",
              "       [0.92, 0.08],\n",
              "       [1.  , 0.  ],\n",
              "       [0.22, 0.78],\n",
              "       [0.91, 0.09],\n",
              "       [0.  , 1.  ],\n",
              "       [0.84, 0.16],\n",
              "       [1.  , 0.  ],\n",
              "       [0.11, 0.89],\n",
              "       [0.8 , 0.2 ],\n",
              "       [0.93, 0.07],\n",
              "       [0.  , 1.  ],\n",
              "       [0.81, 0.19],\n",
              "       [0.86, 0.14],\n",
              "       [0.84, 0.16],\n",
              "       [0.92, 0.08],\n",
              "       [0.85, 0.15],\n",
              "       [0.88, 0.12],\n",
              "       [1.  , 0.  ],\n",
              "       [0.72, 0.28],\n",
              "       [0.  , 1.  ],\n",
              "       [0.23, 0.77],\n",
              "       [0.17, 0.83],\n",
              "       [0.01, 0.99],\n",
              "       [0.19, 0.81],\n",
              "       [0.97, 0.03],\n",
              "       [0.3 , 0.7 ],\n",
              "       [0.  , 1.  ],\n",
              "       [0.22, 0.78],\n",
              "       [1.  , 0.  ],\n",
              "       [0.76, 0.24],\n",
              "       [0.76, 0.24],\n",
              "       [0.  , 1.  ],\n",
              "       [0.  , 1.  ],\n",
              "       [1.  , 0.  ],\n",
              "       [0.91, 0.09],\n",
              "       [1.  , 0.  ],\n",
              "       [0.84, 0.16],\n",
              "       [0.19, 0.81],\n",
              "       [0.95, 0.05],\n",
              "       [0.96, 0.04],\n",
              "       [0.21, 0.79],\n",
              "       [1.  , 0.  ],\n",
              "       [0.  , 1.  ],\n",
              "       [0.48, 0.52],\n",
              "       [0.12, 0.88],\n",
              "       [1.  , 0.  ],\n",
              "       [0.98, 0.02],\n",
              "       [0.66, 0.34],\n",
              "       [1.  , 0.  ],\n",
              "       [0.29, 0.71],\n",
              "       [0.91, 0.09],\n",
              "       [0.08, 0.92],\n",
              "       [0.  , 1.  ],\n",
              "       [0.01, 0.99],\n",
              "       [1.  , 0.  ],\n",
              "       [0.91, 0.09],\n",
              "       [0.22, 0.78],\n",
              "       [0.15, 0.85],\n",
              "       [0.24, 0.76],\n",
              "       [0.26, 0.74],\n",
              "       [0.01, 0.99],\n",
              "       [0.94, 0.06],\n",
              "       [0.  , 1.  ],\n",
              "       [0.  , 1.  ],\n",
              "       [0.92, 0.08],\n",
              "       [0.92, 0.08],\n",
              "       [0.16, 0.84],\n",
              "       [0.89, 0.11],\n",
              "       [0.88, 0.12],\n",
              "       [0.01, 0.99],\n",
              "       [1.  , 0.  ],\n",
              "       [0.11, 0.89],\n",
              "       [0.99, 0.01]], dtype=float32)"
            ]
          },
          "metadata": {},
          "execution_count": 14
        }
      ]
    },
    {
      "cell_type": "code",
      "source": [
        "model.predict(test_inputs)[:,1].round(0)"
      ],
      "metadata": {
        "colab": {
          "base_uri": "https://localhost:8080/"
        },
        "id": "_CUjSQKxnL_8",
        "outputId": "4554154d-e332-4db6-ec61-93d34e8db24e"
      },
      "execution_count": 15,
      "outputs": [
        {
          "output_type": "stream",
          "name": "stdout",
          "text": [
            "14/14 [==============================] - 0s 1ms/step\n"
          ]
        },
        {
          "output_type": "execute_result",
          "data": {
            "text/plain": [
              "array([0., 0., 0., 1., 1., 1., 1., 0., 0., 0., 0., 0., 0., 1., 1., 1., 0.,\n",
              "       1., 0., 1., 0., 0., 0., 0., 0., 1., 1., 1., 1., 0., 0., 0., 0., 0.,\n",
              "       1., 0., 0., 1., 0., 0., 1., 0., 0., 1., 1., 1., 0., 1., 1., 1., 1.,\n",
              "       1., 1., 0., 0., 1., 1., 1., 1., 0., 1., 0., 1., 1., 0., 0., 1., 0.,\n",
              "       0., 0., 1., 0., 1., 1., 0., 0., 0., 0., 0., 1., 1., 0., 0., 0., 0.,\n",
              "       0., 0., 1., 1., 1., 0., 0., 1., 1., 1., 1., 1., 1., 1., 1., 1., 1.,\n",
              "       1., 1., 1., 0., 0., 1., 1., 1., 0., 1., 0., 0., 0., 0., 1., 1., 1.,\n",
              "       0., 1., 0., 1., 1., 1., 0., 0., 1., 1., 0., 1., 0., 0., 1., 1., 0.,\n",
              "       0., 0., 1., 0., 0., 0., 0., 1., 0., 1., 0., 1., 0., 1., 1., 1., 0.,\n",
              "       0., 0., 1., 1., 0., 1., 1., 0., 0., 0., 0., 0., 0., 1., 1., 0., 0.,\n",
              "       1., 1., 0., 1., 0., 1., 1., 1., 1., 0., 1., 1., 1., 0., 0., 1., 0.,\n",
              "       1., 0., 1., 0., 0., 0., 1., 0., 0., 1., 0., 1., 1., 1., 1., 1., 1.,\n",
              "       0., 1., 1., 1., 0., 1., 1., 0., 0., 1., 1., 0., 0., 0., 1., 1., 1.,\n",
              "       1., 0., 0., 1., 1., 0., 0., 1., 1., 0., 1., 1., 1., 1., 0., 0., 0.,\n",
              "       0., 0., 0., 1., 0., 1., 0., 1., 1., 0., 1., 0., 1., 0., 0., 0., 0.,\n",
              "       0., 1., 0., 1., 1., 1., 1., 0., 0., 0., 0., 0., 1., 0., 1., 1., 1.,\n",
              "       1., 1., 0., 1., 1., 1., 1., 1., 1., 0., 0., 0., 0., 0., 0., 1., 0.,\n",
              "       0., 1., 1., 0., 1., 0., 1., 0., 0., 1., 1., 1., 0., 0., 0., 0., 0.,\n",
              "       1., 0., 1., 0., 1., 1., 0., 1., 1., 0., 0., 1., 0., 0., 0., 0., 0.,\n",
              "       0., 1., 0., 0., 1., 1., 0., 1., 0., 1., 0., 1., 1., 1., 0., 1., 0.,\n",
              "       0., 1., 1., 0., 1., 0., 0., 1., 1., 1., 0., 1., 1., 0., 1., 1., 0.,\n",
              "       0., 1., 0., 1., 1., 1., 1., 1., 0., 1., 0., 0., 0., 0., 0., 1., 1.,\n",
              "       1., 0., 0., 1., 0., 1., 0., 0., 1., 0., 0., 1., 0., 0., 0., 0., 0.,\n",
              "       0., 0., 0., 1., 1., 1., 1., 1., 0., 1., 1., 1., 0., 0., 0., 1., 1.,\n",
              "       0., 0., 0., 0., 1., 0., 0., 1., 0., 1., 1., 1., 0., 0., 0., 0., 1.,\n",
              "       0., 1., 1., 1., 0., 0., 1., 1., 1., 1., 1., 0., 1., 1., 0., 0., 1.,\n",
              "       0., 0., 1., 0., 1., 0.], dtype=float32)"
            ]
          },
          "metadata": {},
          "execution_count": 15
        }
      ]
    },
    {
      "cell_type": "markdown",
      "source": [
        "this method is for binary (0 and 1). if it has more tahn 2 outputs we can use argmax"
      ],
      "metadata": {
        "id": "8VmR2puGVzax"
      }
    },
    {
      "cell_type": "code",
      "source": [
        "np.argmax(model.predict(test_inputs),axis=1)"
      ],
      "metadata": {
        "colab": {
          "base_uri": "https://localhost:8080/"
        },
        "id": "og3jmGNSnL7K",
        "outputId": "1d51d0ac-3d8f-4825-f193-fbd24758615b"
      },
      "execution_count": 16,
      "outputs": [
        {
          "output_type": "stream",
          "name": "stdout",
          "text": [
            "14/14 [==============================] - 0s 2ms/step\n"
          ]
        },
        {
          "output_type": "execute_result",
          "data": {
            "text/plain": [
              "array([0, 0, 0, 1, 1, 1, 1, 0, 0, 0, 0, 0, 0, 1, 1, 1, 0, 1, 0, 1, 0, 0,\n",
              "       0, 0, 0, 1, 1, 1, 1, 0, 0, 0, 0, 0, 1, 0, 0, 1, 0, 0, 1, 0, 0, 1,\n",
              "       1, 1, 0, 1, 1, 1, 1, 1, 1, 0, 0, 1, 1, 1, 1, 0, 1, 0, 1, 1, 0, 0,\n",
              "       1, 0, 0, 0, 1, 0, 1, 1, 0, 0, 0, 0, 0, 1, 1, 0, 0, 0, 0, 0, 0, 1,\n",
              "       1, 1, 0, 0, 1, 1, 1, 1, 1, 1, 1, 1, 1, 1, 1, 1, 1, 0, 0, 1, 1, 1,\n",
              "       0, 1, 0, 0, 0, 0, 1, 1, 1, 0, 1, 0, 1, 1, 1, 0, 0, 1, 1, 0, 1, 0,\n",
              "       0, 1, 1, 0, 0, 0, 1, 0, 0, 0, 0, 1, 0, 1, 0, 1, 0, 1, 1, 1, 0, 0,\n",
              "       0, 1, 1, 0, 1, 1, 0, 0, 0, 0, 0, 0, 1, 1, 0, 0, 1, 1, 0, 1, 0, 1,\n",
              "       1, 1, 1, 0, 1, 1, 1, 0, 0, 1, 0, 1, 0, 1, 0, 0, 0, 1, 0, 0, 1, 0,\n",
              "       1, 1, 1, 1, 1, 1, 0, 1, 1, 1, 0, 1, 1, 0, 0, 1, 1, 0, 0, 0, 1, 1,\n",
              "       1, 1, 0, 0, 1, 1, 0, 0, 1, 1, 0, 1, 1, 1, 1, 0, 0, 0, 0, 0, 0, 1,\n",
              "       0, 1, 0, 1, 1, 0, 1, 0, 1, 0, 0, 0, 0, 0, 1, 0, 1, 1, 1, 1, 0, 0,\n",
              "       0, 0, 0, 1, 0, 1, 1, 1, 1, 1, 0, 1, 1, 1, 1, 1, 1, 0, 0, 0, 0, 0,\n",
              "       0, 1, 0, 0, 1, 1, 0, 1, 0, 1, 0, 0, 1, 1, 1, 0, 0, 0, 0, 0, 1, 0,\n",
              "       1, 0, 1, 1, 0, 1, 1, 0, 0, 1, 0, 0, 0, 0, 0, 0, 1, 0, 0, 1, 1, 0,\n",
              "       1, 0, 1, 0, 1, 1, 1, 0, 1, 0, 0, 1, 1, 0, 1, 0, 0, 1, 1, 1, 0, 1,\n",
              "       1, 0, 1, 1, 0, 0, 1, 0, 1, 1, 1, 1, 1, 0, 1, 0, 0, 0, 0, 0, 1, 1,\n",
              "       1, 0, 0, 1, 0, 1, 0, 0, 1, 0, 0, 1, 0, 0, 0, 0, 0, 0, 0, 0, 1, 1,\n",
              "       1, 1, 1, 0, 1, 1, 1, 0, 0, 0, 1, 1, 0, 0, 0, 0, 1, 0, 0, 1, 0, 1,\n",
              "       1, 1, 0, 0, 0, 0, 1, 0, 1, 1, 1, 0, 0, 1, 1, 1, 1, 1, 0, 1, 1, 0,\n",
              "       0, 1, 0, 0, 1, 0, 1, 0])"
            ]
          },
          "metadata": {},
          "execution_count": 16
        }
      ]
    },
    {
      "cell_type": "markdown",
      "source": [
        "##save the model"
      ],
      "metadata": {
        "id": "f2Kisz-kWN1Y"
      }
    },
    {
      "cell_type": "code",
      "source": [
        "model.save('audiobooks_model.h5')"
      ],
      "metadata": {
        "id": "sEq9rhzGnLzk"
      },
      "execution_count": 17,
      "outputs": []
    },
    {
      "cell_type": "markdown",
      "source": [
        "#Predicting on new data"
      ],
      "metadata": {
        "id": "7kSa8t_eiR8r"
      }
    },
    {
      "cell_type": "markdown",
      "source": [
        "##load the scaler and the model"
      ],
      "metadata": {
        "id": "JKVHfNBFiXt2"
      }
    },
    {
      "cell_type": "code",
      "source": [
        "scaler_deep_learning =pickle.load(open('scaler_deep_learning.pickle','rb'))"
      ],
      "metadata": {
        "id": "0Qq74bsLnLmy"
      },
      "execution_count": 18,
      "outputs": []
    },
    {
      "cell_type": "code",
      "source": [
        "model = tf.keras.models.load_model('audiobooks_model.h5')"
      ],
      "metadata": {
        "id": "0VCBXwGunKgj"
      },
      "execution_count": 19,
      "outputs": []
    },
    {
      "cell_type": "markdown",
      "source": [
        "##load the new data"
      ],
      "metadata": {
        "id": "-VXsGbTbjAhv"
      }
    },
    {
      "cell_type": "code",
      "source": [
        "raw_data = np.loadtxt('New_Audiobooks_Data.csv', delimiter=',')\n",
        "new_data_inputs = raw_data[:,1:]"
      ],
      "metadata": {
        "id": "iJQ4qiy9i-8P"
      },
      "execution_count": 21,
      "outputs": []
    },
    {
      "cell_type": "markdown",
      "source": [
        "##predict the probability of a customer to convert"
      ],
      "metadata": {
        "id": "LLKTbxakjv4w"
      }
    },
    {
      "cell_type": "code",
      "source": [
        "new_data_inputs_scaled = scaler_deep_learning.transform(new_data_inputs)"
      ],
      "metadata": {
        "id": "i1IUA3cHjoPX"
      },
      "execution_count": 22,
      "outputs": []
    },
    {
      "cell_type": "code",
      "source": [
        "model.predict(new_data_inputs_scaled)[:,1].round(2)"
      ],
      "metadata": {
        "colab": {
          "base_uri": "https://localhost:8080/"
        },
        "id": "mYApnmJykGeF",
        "outputId": "3e8ce627-a515-40c2-8354-099603e1f4a3"
      },
      "execution_count": 23,
      "outputs": [
        {
          "output_type": "stream",
          "name": "stdout",
          "text": [
            "1/1 [==============================] - 0s 72ms/step\n"
          ]
        },
        {
          "output_type": "execute_result",
          "data": {
            "text/plain": [
              "array([0.  , 0.  , 0.05, 1.  , 0.  , 0.05, 0.05, 0.07, 0.04, 0.79, 0.  ,\n",
              "       0.76, 0.97, 0.  , 0.06, 0.09, 0.84, 0.71, 0.82, 0.96, 1.  , 1.  ,\n",
              "       1.  , 0.02, 0.  , 1.  , 0.29, 0.  , 1.  , 1.  ], dtype=float32)"
            ]
          },
          "metadata": {},
          "execution_count": 23
        }
      ]
    },
    {
      "cell_type": "code",
      "source": [
        "np.argmax(model.predict(new_data_inputs_scaled),1)"
      ],
      "metadata": {
        "colab": {
          "base_uri": "https://localhost:8080/"
        },
        "id": "DzBKtmZckORr",
        "outputId": "24a48d65-8635-44ee-b005-d7599e50e7e3"
      },
      "execution_count": 24,
      "outputs": [
        {
          "output_type": "stream",
          "name": "stdout",
          "text": [
            "1/1 [==============================] - 0s 36ms/step\n"
          ]
        },
        {
          "output_type": "execute_result",
          "data": {
            "text/plain": [
              "array([0, 0, 0, 1, 0, 0, 0, 0, 0, 1, 0, 1, 1, 0, 0, 0, 1, 1, 1, 1, 1, 1,\n",
              "       1, 0, 0, 1, 0, 0, 1, 1])"
            ]
          },
          "metadata": {},
          "execution_count": 24
        }
      ]
    },
    {
      "cell_type": "code",
      "source": [],
      "metadata": {
        "id": "-qmpExDrkW7A"
      },
      "execution_count": 24,
      "outputs": []
    }
  ]
}